{
 "cells": [
  {
   "cell_type": "code",
   "execution_count": 4,
   "metadata": {
    "collapsed": true
   },
   "outputs": [],
   "source": [
    "import numpy as np\n",
    "import scipy\n",
    "import scipy.stats"
   ]
  },
  {
   "cell_type": "markdown",
   "metadata": {},
   "source": [
    "# Доверительные интервалы"
   ]
  },
  {
   "cell_type": "markdown",
   "metadata": {},
   "source": [
    "ЦПТ с семинара"
   ]
  },
  {
   "cell_type": "code",
   "execution_count": 2,
   "metadata": {
    "collapsed": true
   },
   "outputs": [],
   "source": [
    "def get_95_interval(data, sigma=None):\n",
    "    mean = data.mean()\n",
    "    if sigma is None:\n",
    "        sigma = data.std()\n",
    "    err = sigma * 1.96 / np.sqrt(len(data))\n",
    "    return mean - err, mean + err"
   ]
  },
  {
   "cell_type": "markdown",
   "metadata": {},
   "source": [
    "Проверяем на больших выборках."
   ]
  },
  {
   "cell_type": "code",
   "execution_count": 23,
   "metadata": {},
   "outputs": [
    {
     "name": "stdout",
     "output_type": "stream",
     "text": [
      "0.9455\n"
     ]
    }
   ],
   "source": [
    "hits = 0.\n",
    "count = 0.\n",
    "true_mean = 0.5\n",
    "\n",
    "for _ in range(10000):\n",
    "    data = scipy.stats.bernoulli.rvs(0.5, size=1000)\n",
    "    lower_bound, upper_bound = get_95_interval(data)\n",
    "    count += 1\n",
    "    if lower_bound <= true_mean <= upper_bound:\n",
    "        hits += 1\n",
    "        \n",
    "print(hits / count)"
   ]
  },
  {
   "cell_type": "markdown",
   "metadata": {},
   "source": [
    "Работает. Проверяем на маленьких."
   ]
  },
  {
   "cell_type": "code",
   "execution_count": 25,
   "metadata": {},
   "outputs": [
    {
     "name": "stdout",
     "output_type": "stream",
     "text": [
      "0.8895\n"
     ]
    }
   ],
   "source": [
    "hits = 0.\n",
    "count = 0.\n",
    "true_mean = 0.5\n",
    "\n",
    "for _ in range(10000):\n",
    "    data = scipy.stats.bernoulli.rvs(0.5, size=10)\n",
    "    lower_bound, upper_bound = get_95_interval(data)\n",
    "    count += 1\n",
    "    if lower_bound <= true_mean <= upper_bound:\n",
    "        hits += 1\n",
    "        \n",
    "print(hits / count)"
   ]
  },
  {
   "cell_type": "markdown",
   "metadata": {},
   "source": [
    "Нет. К счастью, варианты оценки доверительного интервала описаны в Википедии, а реализация точной оценки - на гитхабе"
   ]
  },
  {
   "cell_type": "code",
   "execution_count": 41,
   "metadata": {
    "collapsed": true
   },
   "outputs": [],
   "source": [
    "def get_95_clopper_pearson(data):\n",
    "    n = len(data)\n",
    "    k = sum(data)\n",
    "    return scipy.stats.beta.ppf(0.025, k, n-k+1), scipy.stats.beta.ppf(0.975, k+1, n-k)"
   ]
  },
  {
   "cell_type": "code",
   "execution_count": 44,
   "metadata": {},
   "outputs": [
    {
     "name": "stdout",
     "output_type": "stream",
     "text": [
      "0.9795\n"
     ]
    }
   ],
   "source": [
    "hits = 0.\n",
    "count = 0.\n",
    "true_mean = 0.5\n",
    "\n",
    "for _ in range(10000):\n",
    "    data = scipy.stats.bernoulli.rvs(0.5, size=10)\n",
    "    lower_bound, upper_bound = get_95_clopper_pearson(data)\n",
    "    count += 1\n",
    "    if lower_bound <= true_mean <= upper_bound:\n",
    "        hits += 1\n",
    "        \n",
    "print(hits / count)"
   ]
  },
  {
   "cell_type": "markdown",
   "metadata": {},
   "source": [
    "Оценка, как и предупреждает Википедия, является консервативной"
   ]
  },
  {
   "cell_type": "markdown",
   "metadata": {},
   "source": [
    "Кроме того, есть пакет с этими интервалами"
   ]
  },
  {
   "cell_type": "code",
   "execution_count": 53,
   "metadata": {},
   "outputs": [],
   "source": [
    "import statsmodels\n",
    "import statsmodels.stats.proportion"
   ]
  },
  {
   "cell_type": "code",
   "execution_count": 54,
   "metadata": {},
   "outputs": [
    {
     "name": "stdout",
     "output_type": "stream",
     "text": [
      "0.8945\n"
     ]
    }
   ],
   "source": [
    "hits = 0.\n",
    "count = 0.\n",
    "true_mean = 0.5\n",
    "\n",
    "for _ in range(10000):\n",
    "    data = scipy.stats.bernoulli.rvs(0.5, size=10)\n",
    "    lower_bound, upper_bound = statsmodels.stats.proportion.proportion_confint(sum(data), len(data), alpha=0.05, method='normal')\n",
    "    count += 1\n",
    "    if lower_bound <= true_mean <= upper_bound:\n",
    "        hits += 1\n",
    "        \n",
    "print(hits / count)"
   ]
  },
  {
   "cell_type": "code",
   "execution_count": 55,
   "metadata": {},
   "outputs": [
    {
     "name": "stdout",
     "output_type": "stream",
     "text": [
      "0.9776\n"
     ]
    }
   ],
   "source": [
    "hits = 0.\n",
    "count = 0.\n",
    "true_mean = 0.5\n",
    "\n",
    "for _ in range(10000):\n",
    "    data = scipy.stats.bernoulli.rvs(0.5, size=10)\n",
    "    lower_bound, upper_bound = statsmodels.stats.proportion.proportion_confint(sum(data), len(data), alpha=0.05, method='agresti_coull')\n",
    "    count += 1\n",
    "    if lower_bound <= true_mean <= upper_bound:\n",
    "        hits += 1\n",
    "        \n",
    "print(hits / count)"
   ]
  },
  {
   "cell_type": "code",
   "execution_count": 56,
   "metadata": {},
   "outputs": [
    {
     "name": "stdout",
     "output_type": "stream",
     "text": [
      "0.9788\n"
     ]
    }
   ],
   "source": [
    "hits = 0.\n",
    "count = 0.\n",
    "true_mean = 0.5\n",
    "\n",
    "for _ in range(10000):\n",
    "    data = scipy.stats.bernoulli.rvs(0.5, size=10)\n",
    "    lower_bound, upper_bound = statsmodels.stats.proportion.proportion_confint(sum(data), len(data), alpha=0.05, method='wilson')\n",
    "    count += 1\n",
    "    if lower_bound <= true_mean <= upper_bound:\n",
    "        hits += 1\n",
    "        \n",
    "print(hits / count)"
   ]
  },
  {
   "cell_type": "markdown",
   "metadata": {},
   "source": [
    "# Bootstrap"
   ]
  },
  {
   "cell_type": "code",
   "execution_count": 61,
   "metadata": {
    "collapsed": true
   },
   "outputs": [],
   "source": [
    "import matplotlib.pyplot as plt"
   ]
  },
  {
   "cell_type": "code",
   "execution_count": 59,
   "metadata": {
    "collapsed": true
   },
   "outputs": [],
   "source": [
    "def my_bootstrap(data_fst, data_snd, iters=1000, plot=True):\n",
    "    values = []\n",
    "    for _ in range(iters):\n",
    "        values.append(\n",
    "            np.random.choice(data_fst, replace=True, size=len(data_fst)).mean()\n",
    "            -\n",
    "            np.random.choice(data_snd, replace=True, size=len(data_snd)).mean()\n",
    "        )\n",
    "        \n",
    "    if plot:\n",
    "        plt.hist(values, bins=30)\n",
    "        plt.show()\n",
    "        \n",
    "    return np.percentile(values, [2.5, 97.5])"
   ]
  },
  {
   "cell_type": "code",
   "execution_count": 62,
   "metadata": {
    "scrolled": false
   },
   "outputs": [
    {
     "name": "stdout",
     "output_type": "stream",
     "text": [
      "0.971833026449\n"
     ]
    },
    {
     "data": {
      "image/png": "[encoded data removed]",
      "text/plain": [
       "<matplotlib.figure.Figure at 0x2560afeef28>"
      ]
     },
     "metadata": {},
     "output_type": "display_data"
    },
    {
     "name": "stdout",
     "output_type": "stream",
     "text": [
      "[-0.70507811  0.58944757]\n"
     ]
    }
   ],
   "source": [
    "data_fst = np.random.normal(0, 10, size=1000)\n",
    "data_snd = np.random.normal(0, 1, size=100)\n",
    "\n",
    "print(scipy.stats.ttest_ind(data_fst, data_snd).pvalue)\n",
    "print(my_bootstrap(data_fst, data_snd, iters=1000, plot=True))"
   ]
  },
  {
   "cell_type": "markdown",
   "metadata": {},
   "source": [
    "Корректность"
   ]
  },
  {
   "cell_type": "code",
   "execution_count": 104,
   "metadata": {
    "scrolled": true
   },
   "outputs": [
    {
     "name": "stdout",
     "output_type": "stream",
     "text": [
      "0.061\n"
     ]
    }
   ],
   "source": [
    "hits = 0.\n",
    "count = 0.\n",
    "\n",
    "for _ in range(1000):\n",
    "    data_fst = np.random.normal(10, 10, size=1000)\n",
    "    data_snd = np.random.normal(10, 1, size=100)\n",
    "\n",
    "    lower, upper = my_bootstrap(data_fst, data_snd, plot=False, iters=1000)\n",
    "    count += 1\n",
    "    if not (lower < 0 < upper):\n",
    "        hits += 1\n",
    "\n",
    "print(hits / count)"
   ]
  },
  {
   "cell_type": "markdown",
   "metadata": {},
   "source": [
    "Мощность"
   ]
  },
  {
   "cell_type": "code",
   "execution_count": 105,
   "metadata": {
    "scrolled": true
   },
   "outputs": [
    {
     "name": "stdout",
     "output_type": "stream",
     "text": [
      "0.865\n"
     ]
    }
   ],
   "source": [
    "hits = 0.\n",
    "count = 0.\n",
    "\n",
    "for _ in range(1000):\n",
    "    data_fst = np.random.normal(11, 10, size=1000)\n",
    "    data_snd = np.random.normal(10, 1, size=100)\n",
    "\n",
    "    lower, upper = my_bootstrap(data_fst, data_snd, plot=False, iters=1000)\n",
    "    count += 1\n",
    "    if not (lower < 0 < upper):\n",
    "        hits += 1\n",
    "\n",
    "print(hits / count)"
   ]
  },
  {
   "cell_type": "markdown",
   "metadata": {},
   "source": [
    "Корректность с выбросами"
   ]
  },
  {
   "cell_type": "code",
   "execution_count": 106,
   "metadata": {
    "scrolled": false
   },
   "outputs": [
    {
     "name": "stdout",
     "output_type": "stream",
     "text": [
      "0.186\n"
     ]
    }
   ],
   "source": [
    "hits = 0.\n",
    "count = 0.\n",
    "\n",
    "for _ in range(1000):\n",
    "    data_fst = np.append(np.random.normal(10, 10, size=1000),[-1000000, -1000000])\n",
    "    data_snd = np.random.normal(10, 1, size=100)\n",
    "\n",
    "    lower, upper = my_bootstrap(data_fst, data_snd, plot=False, iters=1000)\n",
    "    count += 1\n",
    "    if not (lower < 0 < upper):\n",
    "        hits += 1\n",
    "\n",
    "print(hits / count)"
   ]
  },
  {
   "cell_type": "markdown",
   "metadata": {},
   "source": [
    "Мощность с выбросами"
   ]
  },
  {
   "cell_type": "code",
   "execution_count": 107,
   "metadata": {
    "scrolled": true
   },
   "outputs": [
    {
     "name": "stdout",
     "output_type": "stream",
     "text": [
      "0.0\n"
     ]
    }
   ],
   "source": [
    "hits = 0.\n",
    "count = 0.\n",
    "\n",
    "for _ in range(1000):\n",
    "    data_fst = np.append(np.random.normal(11, 10, size=1000),[-1000000, -1000000])\n",
    "    data_snd = np.random.normal(10, 1, size=100)\n",
    "\n",
    "    lower, upper = my_bootstrap(data_fst, data_snd, plot=False, iters=1000)\n",
    "    count += 1\n",
    "    if not (lower < 0 < upper):\n",
    "        hits += 1\n",
    "\n",
    "print(hits / count)"
   ]
  },
  {
   "cell_type": "code",
   "execution_count": 131,
   "metadata": {},
   "outputs": [
    {
     "data": {
      "text/plain": [
       "array([ -4.98883995e+03,   1.78915968e+00])"
      ]
     },
     "execution_count": 131,
     "metadata": {},
     "output_type": "execute_result"
    }
   ],
   "source": [
    "data_fst = np.append(np.random.normal(11, 10, size=1000),[-1000000, -1000000])\n",
    "data_snd = np.random.normal(10, 1, size=100)\n",
    "my_bootstrap(data_fst, data_snd, plot=False, iters=1000)"
   ]
  },
  {
   "cell_type": "code",
   "execution_count": 130,
   "metadata": {},
   "outputs": [
    {
     "data": {
      "text/plain": [
       "array([  3.35965157e+00,   8.41760634e+00,   2.12124423e+01, ...,\n",
       "         7.60743089e+00,  -1.00000000e+06,  -1.00000000e+06])"
      ]
     },
     "execution_count": 130,
     "metadata": {},
     "output_type": "execute_result"
    }
   ],
   "source": [
    "data_fst"
   ]
  },
  {
   "cell_type": "markdown",
   "metadata": {},
   "source": [
    "### Перестановочный тест"
   ]
  },
  {
   "cell_type": "code",
   "execution_count": 79,
   "metadata": {
    "collapsed": true
   },
   "outputs": [],
   "source": [
    "def my_test(data_fst, data_snd, iters=1000, plot=True):\n",
    "    data = np.array(list(data_fst) + list(data_snd))\n",
    "    size = len(data)\n",
    "    values = []\n",
    "    fst_ratio = len(data_fst) * 1. / size\n",
    "    for _ in range(iters):\n",
    "        mask = (np.random.random(size=size) < fst_ratio)\n",
    "        values.append(data[mask].mean() - data[~mask].mean())\n",
    "        \n",
    "    if plot:\n",
    "        plt.hist(values, bins=30)\n",
    "        plt.show()\n",
    "        \n",
    "    return (np.abs(values) > np.abs(data_fst.mean() - data_snd.mean())).mean()"
   ]
  },
  {
   "cell_type": "markdown",
   "metadata": {},
   "source": [
    "Корректность"
   ]
  },
  {
   "cell_type": "code",
   "execution_count": 80,
   "metadata": {
    "scrolled": false
   },
   "outputs": [
    {
     "name": "stdout",
     "output_type": "stream",
     "text": [
      "0.045\n"
     ]
    }
   ],
   "source": [
    "hits = 0.\n",
    "count = 0.\n",
    "\n",
    "for _ in range(1000):\n",
    "    data_fst = np.random.normal(10, 1, size=1000)\n",
    "    data_snd = np.random.normal(10, 1, size=100)\n",
    "\n",
    "    count += 1\n",
    "    if my_test(data_fst, data_snd, plot=False, iters=1000) < 0.05:\n",
    "        hits += 1\n",
    "\n",
    "print(hits / count)"
   ]
  },
  {
   "cell_type": "markdown",
   "metadata": {},
   "source": [
    "Мощность"
   ]
  },
  {
   "cell_type": "code",
   "execution_count": 81,
   "metadata": {
    "scrolled": true
   },
   "outputs": [
    {
     "name": "stdout",
     "output_type": "stream",
     "text": [
      "1.0\n"
     ]
    }
   ],
   "source": [
    "hits = 0.\n",
    "count = 0.\n",
    "\n",
    "for _ in range(1000):\n",
    "    data_fst = np.random.normal(11, 1, size=1000)\n",
    "    data_snd = np.random.normal(10, 1, size=100)\n",
    "\n",
    "    count += 1\n",
    "    if my_test(data_fst, data_snd, plot=False, iters=1000) < 0.05:\n",
    "        hits += 1\n",
    "\n",
    "print(hits / count)"
   ]
  },
  {
   "cell_type": "markdown",
   "metadata": {},
   "source": [
    "Корректность с выбросами"
   ]
  },
  {
   "cell_type": "code",
   "execution_count": 83,
   "metadata": {
    "scrolled": false
   },
   "outputs": [
    {
     "name": "stdout",
     "output_type": "stream",
     "text": [
      "0.0\n"
     ]
    }
   ],
   "source": [
    "hits = 0.\n",
    "count = 0.\n",
    "\n",
    "for _ in range(1000):\n",
    "    data_fst = np.append(np.random.normal(10, 1, size=1000),[-1000000, -1000000])\n",
    "    data_snd = np.random.normal(10, 1, size=100)\n",
    "\n",
    "    count += 1\n",
    "    if my_test(data_fst, data_snd, plot=False, iters=1000) < 0.05:\n",
    "        hits += 1\n",
    "\n",
    "print(hits / count)"
   ]
  },
  {
   "cell_type": "markdown",
   "metadata": {},
   "source": [
    "Мощность с выбросами"
   ]
  },
  {
   "cell_type": "code",
   "execution_count": 84,
   "metadata": {},
   "outputs": [
    {
     "name": "stdout",
     "output_type": "stream",
     "text": [
      "0.0\n"
     ]
    }
   ],
   "source": [
    "hits = 0.\n",
    "count = 0.\n",
    "\n",
    "for _ in range(1000):\n",
    "    data_fst = np.append(np.random.normal(11, 1, size=1000),[-1000000, -1000000])\n",
    "    data_snd = np.random.normal(10, 1, size=100)\n",
    "\n",
    "    count += 1\n",
    "    if my_test(data_fst, data_snd, plot=False, iters=1000) < 0.05:\n",
    "        hits += 1\n",
    "\n",
    "print(hits / count)"
   ]
  },
  {
   "cell_type": "markdown",
   "metadata": {},
   "source": [
    "### Бутстреп показывает диаметрально противоположный истинному результат.\n",
    "\n",
    "Бутстреп при одинаковых (за исключением выбросов) распределениях \"теряет\" возможность получить плавильную оценку нижней границы распределения (т.к. всегда попадаются случаи, когда в выборку попадают выбросы, т.е. левый край всегда смещен далеко налево). При этом оценка для правого края зависит от соотношения средних: если различие недостаточно велико или они равны, правый край иногда будет меньше нуля и тест покажет значительную ненулевую вероятность, что средние различны. Если же среднее по первой выборке существенно (с точки зрения теста) больше, то правый край будет также всегда больше нуля и тест зафиксирует равенство средних с высокой вероятностью.\n",
    "\n",
    "### Перестановочный тест вседа показывает, что средние равны.\n",
    "\n",
    "При семплинге новых подвыборок существует четыре состояния: оба выброса в первой подвыборке, оба выброса во второй подвыборке, один из выбросов в порвой подвыборке, друой - во второй (в двух комбинациях). Наблюдаемая ситуация соответствует первой ситуации. Перестановочный тест оценивает вероятность первой ситуации с учетом соотношения размеров выборок, ничего не показывая относительно других элементов, т.к. они вносят несравнимо меньший вклад в среднее."
   ]
  }
 ],
 "metadata": {
  "kernelspec": {
   "display_name": "Python 3",
   "language": "python",
   "name": "python3"
  },
  "language_info": {
   "codemirror_mode": {
    "name": "ipython",
    "version": 3
   },
   "file_extension": ".py",
   "mimetype": "text/x-python",
   "name": "python",
   "nbconvert_exporter": "python",
   "pygments_lexer": "ipython3",
   "version": "3.6.3"
  }
 },
 "nbformat": 4,
 "nbformat_minor": 2
}
