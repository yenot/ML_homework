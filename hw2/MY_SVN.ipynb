{
 "cells": [
  {
   "cell_type": "code",
   "execution_count": 7,
   "metadata": {
    "collapsed": true
   },
   "outputs": [],
   "source": [
    "import numpy as np\n",
    "from sklearn.base import BaseEstimator\n",
    "\n",
    "from sklearn.datasets import make_classification\n",
    "from sklearn.model_selection import cross_val_score\n",
    "from sklearn.metrics import mean_squared_error\n",
    "\n",
    "from svm_checker import Checker"
   ]
  },
  {
   "cell_type": "code",
   "execution_count": 2,
   "metadata": {
    "collapsed": true
   },
   "outputs": [],
   "source": [
    "SVM_PARAMS_DICT = {\n",
    "    'C': 10.,\n",
    "    'random_state': 777,\n",
    "    'iters': 10000,\n",
    "    'batch_size': 100,\n",
    "    'step': 0.015\n",
    "}"
   ]
  },
  {
   "cell_type": "code",
   "execution_count": 72,
   "metadata": {
    "collapsed": true
   },
   "outputs": [],
   "source": [
    "class MySVM(BaseEstimator):\n",
    "    def __init__(self, C, random_state, iters, batch_size, step):\n",
    "        self.C = C\n",
    "        self.random_state = random_state\n",
    "        self.iters = iters\n",
    "        self.batch_size = batch_size\n",
    "        self.step = step\n",
    "\n",
    "    # будем пользоваться этой функцией для подсчёта <w, x>\n",
    "    def __predict(self, X):\n",
    "        return np.dot(X, self.w) + self.w0\n",
    "\n",
    "    # sklearn нужно, чтобы predict возвращал классы, поэтому оборачиваем наш __predict в это\n",
    "    def predict(self, X):\n",
    "        res = self.__predict(X)\n",
    "        res[res > 0] = 1\n",
    "        res[res < 0] = 0\n",
    "        return res\n",
    "\n",
    "    # производная регуляризатора\n",
    "    def der_reg(self):\n",
    "        return 1. / self.C * self.w\n",
    "\n",
    "    # будем считать стохастический градиент не на одном элементе, а сразу на пачке (чтобы было эффективнее)\n",
    "    def der_loss(self, x, y):\n",
    "        #s.shape == (self.batch_size, features)\n",
    "        #y.shape == (self.batch_size,)\n",
    "\n",
    "        # считаем производную по каждой координате на каждом объекте\n",
    "        margin = np.multiply(y, self.__predict(x))\n",
    "\n",
    "        # занулить производные там, где отступ > 1\n",
    "        margin[margin < 1] = -1.0\n",
    "        margin[margin > 1] = 0.0\n",
    "        \n",
    "        # для масштаба возвращаем средний градиент по пачке\n",
    "        return np.mean(margin)\n",
    "\n",
    "    def fit(self, X_train, y_train):\n",
    "        # RandomState для воспроизводитмости\n",
    "        random_gen = np.random.RandomState(self.random_state)\n",
    "        \n",
    "        # получаем размерности матрицы\n",
    "        size, dim = X_train.shape\n",
    "        \n",
    "        # случайная начальная инициализация\n",
    "        self.w = random_gen.rand(dim)\n",
    "        self.w0 = random_gen.randn()\n",
    "\n",
    "        for _ in range(self.iters):  \n",
    "            # берём случайный набор элементов\n",
    "            rand_indices = random_gen.choice(size, self.batch_size)\n",
    "            x = X_train[rand_indices]\n",
    "            y = y_train[rand_indices] * 2 - 1 # исходные метки классов это 0/1 а нам надо -1/1\n",
    "\n",
    "            # считаем производные\n",
    "            # TODO\n",
    "\n",
    "            # обновляемся по антиградиенту\n",
    "            self.w -= np.mean(np.multiply(x, y.reshape(self.batch_size, 1)) * self.der_loss(x,y) * self.step, axis = 0)\n",
    "            self.w0 -= np.mean(y * self.der_loss(x,y) * self.step)\n",
    "\n",
    "        # метод fit для sklearn должен возвращать self\n",
    "        return self"
   ]
  },
  {
   "cell_type": "code",
   "execution_count": 73,
   "metadata": {
    "collapsed": true
   },
   "outputs": [],
   "source": [
    "#algo = MySVM(**SVM_PARAMS_DICT)"
   ]
  },
  {
   "cell_type": "code",
   "execution_count": 74,
   "metadata": {},
   "outputs": [],
   "source": [
    "#X_data, y_data = make_classification(\n",
    "#    n_samples=10000, n_features=20, \n",
    "#    n_classes=2, n_informative=20, \n",
    "#    n_redundant=0,\n",
    "#    random_state=42\n",
    "#)"
   ]
  },
  {
   "cell_type": "code",
   "execution_count": 75,
   "metadata": {
    "scrolled": false
   },
   "outputs": [
    {
     "data": {
      "text/plain": [
       "0.77100000000000002"
      ]
     },
     "execution_count": 75,
     "metadata": {},
     "output_type": "execute_result"
    }
   ],
   "source": [
    "#np.mean(cross_val_score(algo, X_data, y_data, cv=2, scoring='accuracy'))"
   ]
  },
  {
   "cell_type": "code",
   "execution_count": 76,
   "metadata": {},
   "outputs": [
    {
     "name": "stdout",
     "output_type": "stream",
     "text": [
      "Unexpected error: <class 'AttributeError'>\n"
     ]
    }
   ],
   "source": [
    "#Checker().check('MY_SVN.ipynb')"
   ]
  }
 ],
 "metadata": {
  "kernelspec": {
   "display_name": "Python 3",
   "language": "python",
   "name": "python3"
  },
  "language_info": {
   "codemirror_mode": {
    "name": "ipython",
    "version": 3
   },
   "file_extension": ".py",
   "mimetype": "text/x-python",
   "name": "python",
   "nbconvert_exporter": "python",
   "pygments_lexer": "ipython3",
   "version": "3.6.3"
  }
 },
 "nbformat": 4,
 "nbformat_minor": 2
}
