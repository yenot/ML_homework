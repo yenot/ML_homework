{
 "cells": [
  {
   "cell_type": "code",
   "execution_count": 25,
   "metadata": {},
   "outputs": [
    {
     "name": "stdout",
     "output_type": "stream",
     "text": [
      "0.771\n"
     ]
    }
   ],
   "source": [
    "from sklearn.datasets import make_classification\n",
    "from sklearn.model_selection import cross_val_score\n",
    "from sklearn.metrics import mean_squared_error\n",
    "import numpy as np\n",
    "import os\n",
    "import imp\n",
    "import signal\n",
    "import sys\n",
    "\n",
    "\n",
    "#SCRIPT_DIR = os.path.dirname(os.path.realpath(__file__))\n",
    "\n",
    "\n",
    "#def signal_handler(signum, frame):\n",
    "#    raise Exception(\"Timed out!\")\n",
    "\n",
    "\n",
    "class Checker(object):\n",
    "    def __init__(self):\n",
    "        self.X_data, self.y_data = make_classification(\n",
    "            n_samples=10000, n_features=20, \n",
    "            n_classes=2, n_informative=20, \n",
    "            n_redundant=0,\n",
    "            random_state=42\n",
    "        )\n",
    "        self.applications = 0\n",
    "\n",
    "    def check(self, script_path):\n",
    "        try:\n",
    "            # Минута на выполнение алгоритма\n",
    "#            signal.signal(signal.SIGALRM, signal_handler)\n",
    "#            signal.alarm(60)\n",
    "            svm_impl = imp.load_source('svm_impl_{}'.format(self.applications), script_path)\n",
    "            self.applications += 1\n",
    "            # В модуле должна быть объявлена константа SVM_PARAMS_DICT, \n",
    "            # содержащая в себе значения параметров, необходимых для вашего алгоритма\n",
    "            algo = svm_impl.MySVM(**svm_impl.SVM_PARAMS_DICT)\n",
    "            return np.mean(cross_val_score(algo, self.X_data, self.y_data, cv=2, scoring='accuracy'))\n",
    "        except:\n",
    "            print(\"Unexpected error:\", sys.exc_info()[0])\n",
    "            return None\n",
    "\n",
    "\n",
    "if __name__ == '__main__':\n",
    "    print(Checker().check('MY_SVN.py'))\n"
   ]
  }
 ],
 "metadata": {
  "kernelspec": {
   "display_name": "Python 3",
   "language": "python",
   "name": "python3"
  },
  "language_info": {
   "codemirror_mode": {
    "name": "ipython",
    "version": 3
   },
   "file_extension": ".py",
   "mimetype": "text/x-python",
   "name": "python",
   "nbconvert_exporter": "python",
   "pygments_lexer": "ipython3",
   "version": "3.6.3"
  }
 },
 "nbformat": 4,
 "nbformat_minor": 2
}
