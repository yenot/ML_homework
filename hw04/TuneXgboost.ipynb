{
 "cells": [
  {
   "cell_type": "markdown",
   "metadata": {},
   "source": [
    "# Задание\n",
    "\n",
    "Попробуйте настроить параметры градиентного бустинга на этом датасете, и посмотрите, как изменение отдельных параметров влияет на результат.\n",
    "\n",
    "#### Конечная цель - сказать значение параметров xgb, при которых будет самое хорошее качество на кроссвалидации"
   ]
  },
  {
   "cell_type": "code",
   "execution_count": 69,
   "metadata": {
    "scrolled": true
   },
   "outputs": [],
   "source": [
    "from sklearn.model_selection import cross_val_score\n",
    "import xgboost as xgb\n",
    "import pandas\n",
    "import numpy as np\n",
    "import scipy\n",
    "import signal\n",
    "\n",
    "bioresponce = pandas.read_csv('../../ml2018jan_feb/seminar01/bioresponse.csv', header=0, sep=',')\n",
    "bioresponce_target = bioresponce.Activity.values\n",
    "bioresponce_data = bioresponce.iloc[:, 1:]\n",
    "\n",
    "#def signal_handler(signum, frame):\n",
    "#    raise Exception(\"Timed out!\")\n",
    "\n",
    "def estimate_params(params):\n",
    "#    signal.signal(signal.SIGALRM, signal_handler)\n",
    "#    signal.alarm(30)\n",
    "    estimator = xgb.XGBClassifier(**params)\n",
    "\n",
    "    try:\n",
    "        score = np.mean(cross_val_score(\n",
    "            estimator, bioresponce_data, bioresponce_target,\n",
    "            scoring = 'accuracy', cv = 3\n",
    "        ))\n",
    "    except:\n",
    "        score = None\n",
    "    \n",
    "    return score"
   ]
  },
  {
   "cell_type": "code",
   "execution_count": 11,
   "metadata": {
    "scrolled": true
   },
   "outputs": [
    {
     "name": "stdout",
     "output_type": "stream",
     "text": [
      "0.791254356515\n"
     ]
    }
   ],
   "source": [
    "print(estimate_params({\n",
    "    'learning_rate': 0.1, \n",
    "    'max_depth': 5, \n",
    "    'n_estimators': 100, \n",
    "    'min_child_weight': 3,\n",
    "    'seed': 42\n",
    "}))"
   ]
  },
  {
   "cell_type": "code",
   "execution_count": 39,
   "metadata": {
    "scrolled": false
   },
   "outputs": [
    {
     "name": "stdout",
     "output_type": "stream",
     "text": [
      "0.789919744205\n"
     ]
    }
   ],
   "source": [
    "print(estimate_params({\n",
    "    'learning_rate': 0.1, \n",
    "    'max_depth': 5, \n",
    "    'n_estimators': 60, \n",
    "    'min_child_weight': 3,\n",
    "    'seed': 42\n",
    "}))"
   ]
  },
  {
   "cell_type": "code",
   "execution_count": 17,
   "metadata": {
    "scrolled": true
   },
   "outputs": [
    {
     "name": "stdout",
     "output_type": "stream",
     "text": [
      "None\n"
     ]
    }
   ],
   "source": [
    "print(estimate_params({\n",
    "    'learning_rate': 0.1, \n",
    "    'max_depth': 5, \n",
    "    'n_estimators': 100000, \n",
    "    'min_child_weight': 3,\n",
    "    'seed': 42\n",
    "}))"
   ]
  },
  {
   "cell_type": "code",
   "execution_count": 18,
   "metadata": {
    "scrolled": true
   },
   "outputs": [
    {
     "name": "stdout",
     "output_type": "stream",
     "text": [
      "0.792053503864\n"
     ]
    }
   ],
   "source": [
    "print(estimate_params({\n",
    "    'learning_rate': 0.1, \n",
    "    'max_depth': 5, \n",
    "    'n_estimators': 1000, \n",
    "    'min_child_weight': 3,\n",
    "    'seed': 42\n",
    "}))"
   ]
  },
  {
   "cell_type": "markdown",
   "metadata": {},
   "source": [
    "# Подбор параметров"
   ]
  },
  {
   "cell_type": "markdown",
   "metadata": {},
   "source": [
    "##### Сначала проводится GridSearchCV по отдельным параметрам для того, чтобы приблизительно определить границы,потом наилучший вариант определяется через RandomizedSearchCV"
   ]
  },
  {
   "cell_type": "code",
   "execution_count": 26,
   "metadata": {
    "collapsed": true
   },
   "outputs": [],
   "source": [
    "params = {\n",
    "    'learning_rate': [0.1], \n",
    "    'max_depth': [5],\n",
    "    'n_estimators': np.arange(100, 1000, 100), \n",
    "    'min_child_weight': [3],\n",
    "    'seed': 42\n",
    "}"
   ]
  },
  {
   "cell_type": "code",
   "execution_count": 20,
   "metadata": {
    "collapsed": true
   },
   "outputs": [],
   "source": [
    "model = xgb.XGBClassifier()"
   ]
  },
  {
   "cell_type": "code",
   "execution_count": 23,
   "metadata": {
    "collapsed": true
   },
   "outputs": [],
   "source": [
    "from sklearn.model_selection import GridSearchCV\n",
    "from sklearn.model_selection import RandomizedSearchCV"
   ]
  },
  {
   "cell_type": "code",
   "execution_count": 27,
   "metadata": {},
   "outputs": [],
   "source": [
    "grid_test = GridSearchCV(estimator = model, param_grid = params, cv = 3, scoring = 'accuracy')"
   ]
  },
  {
   "cell_type": "code",
   "execution_count": 28,
   "metadata": {},
   "outputs": [
    {
     "name": "stdout",
     "output_type": "stream",
     "text": [
      "{'learning_rate': 0.1, 'max_depth': 5, 'min_child_weight': 3, 'n_estimators': 800, 'seed': 42} 0.795521194348\n"
     ]
    }
   ],
   "source": [
    "grid_test.fit(bioresponce_data, bioresponce_target)\n",
    "print(grid_test.best_params_, grid_test.best_score_)"
   ]
  },
  {
   "cell_type": "code",
   "execution_count": 43,
   "metadata": {
    "scrolled": true
   },
   "outputs": [
    {
     "data": {
      "text/plain": [
       "array([[100, 0.7912556651559585, 7],\n",
       "       [200, 0.7893894961343642, 9],\n",
       "       [300, 0.7915222607304718, 6],\n",
       "       [400, 0.7901892828579046, 8],\n",
       "       [500, 0.7939216209010931, 3],\n",
       "       [600, 0.7941882164756066, 2],\n",
       "       [700, 0.7928552386030392, 5],\n",
       "       [800, 0.7955211943481738, 1],\n",
       "       [900, 0.7936550253265796, 4]], dtype=object)"
      ]
     },
     "execution_count": 43,
     "metadata": {},
     "output_type": "execute_result"
    }
   ],
   "source": [
    "values = grid_test.cv_results_['param_n_estimators'].data\n",
    "scores = grid_test.cv_results_['mean_test_score']\n",
    "temp = scores.argsort()\n",
    "ranks = np.empty_like(temp)\n",
    "ranks[temp] = np.arange(len(scores),0,-1)\n",
    "np.transpose([values,scores,ranks])"
   ]
  },
  {
   "cell_type": "code",
   "execution_count": 52,
   "metadata": {},
   "outputs": [],
   "source": [
    "params2 = {\n",
    "    'learning_rate': np.arange(0.01,1,0.01),\n",
    "    'max_depth': [5],\n",
    "    'n_estimators': [100], \n",
    "    'min_child_weight': [3],\n",
    "    'seed': [42]\n",
    "}"
   ]
  },
  {
   "cell_type": "code",
   "execution_count": 53,
   "metadata": {},
   "outputs": [],
   "source": [
    "grid_test2 = GridSearchCV(estimator = model, param_grid = params2, cv = 3, scoring = 'accuracy')"
   ]
  },
  {
   "cell_type": "code",
   "execution_count": 54,
   "metadata": {},
   "outputs": [
    {
     "name": "stdout",
     "output_type": "stream",
     "text": [
      "{'learning_rate': 0.19, 'max_depth': 5, 'min_child_weight': 3, 'n_estimators': 100, 'seed': 42} 0.796054385497\n"
     ]
    }
   ],
   "source": [
    "grid_test2.fit(bioresponce_data, bioresponce_target)\n",
    "print(grid_test2.best_params_, grid_test2.best_score_)"
   ]
  },
  {
   "cell_type": "code",
   "execution_count": 66,
   "metadata": {
    "scrolled": true
   },
   "outputs": [
    {
     "data": {
      "text/plain": [
       "array([[0.01, 0.7739269528125833, 88],\n",
       "       [0.02, 0.7797920554518795, 66],\n",
       "       [0.029999999999999999, 0.7864569448147161, 35],\n",
       "       [0.040000000000000001, 0.7861903492402026, 39],\n",
       "       [0.050000000000000003, 0.7883231138363103, 24],\n",
       "       [0.060000000000000005, 0.7899226872833911, 14],\n",
       "       [0.069999999999999993, 0.7883231138363103, 25],\n",
       "       [0.080000000000000002, 0.7885897094108237, 23],\n",
       "       [0.089999999999999997, 0.790989069581445, 8],\n",
       "       [0.099999999999999992, 0.7912556651559585, 6],\n",
       "       [0.11, 0.7920554518794988, 5],\n",
       "       [0.12, 0.7885897094108237, 19],\n",
       "       [0.13, 0.7907224740069315, 9],\n",
       "       [0.14000000000000001, 0.7893894961343642, 15],\n",
       "       [0.15000000000000002, 0.783524393495068, 51],\n",
       "       [0.16, 0.790455878432418, 11],\n",
       "       [0.17000000000000001, 0.790455878432418, 12],\n",
       "       [0.18000000000000002, 0.7952545987736603, 3],\n",
       "       [0.19, 0.7960543854972008, 1],\n",
       "       [0.20000000000000001, 0.7885897094108237, 21],\n",
       "       [0.21000000000000002, 0.7885897094108237, 20],\n",
       "       [0.22, 0.7819248200479872, 54],\n",
       "       [0.23000000000000001, 0.7888563049853372, 17],\n",
       "       [0.24000000000000002, 0.7936550253265796, 4],\n",
       "       [0.25, 0.7957877899226873, 2],\n",
       "       [0.26000000000000001, 0.7861903492402026, 41],\n",
       "       [0.27000000000000002, 0.786990135963743, 32],\n",
       "       [0.28000000000000003, 0.7888563049853372, 18],\n",
       "       [0.29000000000000004, 0.7861903492402026, 38],\n",
       "       [0.29999999999999999, 0.7864569448147161, 34],\n",
       "       [0.31, 0.7859237536656891, 43],\n",
       "       [0.32000000000000001, 0.7837909890695814, 49],\n",
       "       [0.33000000000000002, 0.7899226872833911, 13],\n",
       "       [0.34000000000000002, 0.786990135963743, 30],\n",
       "       [0.35000000000000003, 0.7912556651559585, 7],\n",
       "       [0.36000000000000004, 0.7907224740069315, 10],\n",
       "       [0.37, 0.7867235403892295, 33],\n",
       "       [0.38, 0.7885897094108237, 22],\n",
       "       [0.39000000000000001, 0.7840575846440949, 47],\n",
       "       [0.40000000000000002, 0.7803252466009064, 63],\n",
       "       [0.41000000000000003, 0.7819248200479872, 53],\n",
       "       [0.42000000000000004, 0.7891229005598507, 16],\n",
       "       [0.42999999999999999, 0.786990135963743, 31],\n",
       "       [0.44, 0.7880565182617969, 26],\n",
       "       [0.45000000000000001, 0.78752332711277, 28],\n",
       "       [0.46000000000000002, 0.78752332711277, 27],\n",
       "       [0.47000000000000003, 0.7861903492402026, 40],\n",
       "       [0.48000000000000004, 0.7840575846440949, 46],\n",
       "       [0.48999999999999999, 0.7859237536656891, 42],\n",
       "       [0.5, 0.7760597174086911, 83],\n",
       "       [0.51000000000000001, 0.7848573713676353, 45],\n",
       "       [0.52000000000000002, 0.7827246067715276, 52],\n",
       "       [0.53000000000000003, 0.786990135963743, 29],\n",
       "       [0.54000000000000004, 0.7864569448147161, 37],\n",
       "       [0.55000000000000004, 0.7800586510263929, 65],\n",
       "       [0.56000000000000005, 0.7781924820047987, 70],\n",
       "       [0.57000000000000006, 0.7781924820047987, 71],\n",
       "       [0.58000000000000007, 0.7853905625166622, 44],\n",
       "       [0.58999999999999997, 0.7771260997067448, 76],\n",
       "       [0.59999999999999998, 0.7805918421754199, 58],\n",
       "       [0.60999999999999999, 0.7864569448147161, 36],\n",
       "       [0.62, 0.7837909890695814, 48],\n",
       "       [0.63, 0.7805918421754199, 59],\n",
       "       [0.64000000000000001, 0.7696614236203679, 98],\n",
       "       [0.65000000000000002, 0.7755265262596641, 84],\n",
       "       [0.66000000000000003, 0.7773926952812583, 75],\n",
       "       [0.67000000000000004, 0.7781924820047987, 72],\n",
       "       [0.68000000000000005, 0.7736603572380698, 89],\n",
       "       [0.69000000000000006, 0.7811250333244468, 55],\n",
       "       [0.70000000000000007, 0.7837909890695814, 50],\n",
       "       [0.71000000000000008, 0.7733937616635563, 90],\n",
       "       [0.71999999999999997, 0.7715275926419621, 95],\n",
       "       [0.72999999999999998, 0.7765929085577179, 81],\n",
       "       [0.73999999999999999, 0.7741935483870968, 87],\n",
       "       [0.75, 0.7803252466009064, 64],\n",
       "       [0.76000000000000001, 0.7765929085577179, 80],\n",
       "       [0.77000000000000002, 0.7805918421754199, 60],\n",
       "       [0.78000000000000003, 0.772593974940016, 92],\n",
       "       [0.79000000000000004, 0.7768595041322314, 79],\n",
       "       [0.80000000000000004, 0.7752599306851506, 85],\n",
       "       [0.81000000000000005, 0.7720607837909891, 94],\n",
       "       [0.82000000000000006, 0.7768595041322314, 78],\n",
       "       [0.83000000000000007, 0.7808584377499334, 56],\n",
       "       [0.84000000000000008, 0.7784590775793122, 68],\n",
       "       [0.84999999999999998, 0.7776592908557718, 74],\n",
       "       [0.85999999999999999, 0.7779258864302853, 73],\n",
       "       [0.87, 0.7803252466009064, 61],\n",
       "       [0.88, 0.7803252466009064, 62],\n",
       "       [0.89000000000000001, 0.7749933351106372, 86],\n",
       "       [0.90000000000000002, 0.772593974940016, 93],\n",
       "       [0.91000000000000003, 0.7784590775793122, 67],\n",
       "       [0.92000000000000004, 0.7784590775793122, 69],\n",
       "       [0.93000000000000005, 0.773127166089043, 91],\n",
       "       [0.94000000000000006, 0.7712609970674487, 96],\n",
       "       [0.95000000000000007, 0.7760597174086911, 82],\n",
       "       [0.96000000000000008, 0.7808584377499334, 57],\n",
       "       [0.96999999999999997, 0.7768595041322314, 77],\n",
       "       [0.97999999999999998, 0.7699280191948814, 97],\n",
       "       [0.98999999999999999, 0.769128232471341, 99]], dtype=object)"
      ]
     },
     "execution_count": 66,
     "metadata": {},
     "output_type": "execute_result"
    }
   ],
   "source": [
    "values = grid_test2.cv_results_['param_learning_rate'].data\n",
    "scores = grid_test2.cv_results_['mean_test_score']\n",
    "temp = scores.argsort()\n",
    "ranks = np.empty_like(temp)\n",
    "ranks[temp] = np.arange(len(scores),0,-1)\n",
    "np.transpose([values,scores,ranks])"
   ]
  },
  {
   "cell_type": "code",
   "execution_count": 97,
   "metadata": {
    "collapsed": true
   },
   "outputs": [],
   "source": [
    "params3 = {\n",
    "    'learning_rate': [0.1],\n",
    "    'max_depth': [5],\n",
    "    'n_estimators': [100], \n",
    "    'min_child_weight': np.arange(1,10,1),\n",
    "    #'seed': [42]\n",
    "}"
   ]
  },
  {
   "cell_type": "code",
   "execution_count": 98,
   "metadata": {
    "collapsed": true
   },
   "outputs": [],
   "source": [
    "grid_test3 = GridSearchCV(estimator = model, param_grid = params3, cv = 3, scoring = 'accuracy')"
   ]
  },
  {
   "cell_type": "code",
   "execution_count": 99,
   "metadata": {
    "scrolled": true
   },
   "outputs": [
    {
     "name": "stdout",
     "output_type": "stream",
     "text": [
      "{'learning_rate': 0.1, 'max_depth': 5, 'min_child_weight': 3, 'n_estimators': 100} 0.791255665156\n"
     ]
    }
   ],
   "source": [
    "grid_test3.fit(bioresponce_data, bioresponce_target)\n",
    "print(grid_test3.best_params_, grid_test3.best_score_)"
   ]
  },
  {
   "cell_type": "code",
   "execution_count": 100,
   "metadata": {
    "scrolled": false
   },
   "outputs": [
    {
     "data": {
      "text/plain": [
       "array([[1, 0.786990135963743, 7],\n",
       "       [2, 0.790455878432418, 2],\n",
       "       [3, 0.7912556651559585, 1],\n",
       "       [4, 0.7864569448147161, 8],\n",
       "       [5, 0.7888563049853372, 3],\n",
       "       [6, 0.7845907757931219, 9],\n",
       "       [7, 0.7883231138363103, 5],\n",
       "       [8, 0.7883231138363103, 4],\n",
       "       [9, 0.7877899226872834, 6]], dtype=object)"
      ]
     },
     "execution_count": 100,
     "metadata": {},
     "output_type": "execute_result"
    }
   ],
   "source": [
    "values = grid_test3.cv_results_['param_min_child_weight'].data\n",
    "scores = grid_test3.cv_results_['mean_test_score']\n",
    "temp = scores.argsort()\n",
    "ranks = np.empty_like(temp)\n",
    "ranks[temp] = np.arange(len(scores),0,-1)\n",
    "np.transpose([values,scores,ranks])"
   ]
  },
  {
   "cell_type": "code",
   "execution_count": 121,
   "metadata": {},
   "outputs": [],
   "source": [
    "params_rand = {\n",
    "    'learning_rate': scipy.stats.uniform(0.05,0.3),\n",
    "    'max_depth': scipy.stats.randint(3, 10),\n",
    "    'n_estimators': scipy.stats.randint(10, 1000, 10), \n",
    "    'min_child_weight': scipy.stats.randint(2, 4),\n",
    "    'seed': [42]\n",
    "}"
   ]
  },
  {
   "cell_type": "code",
   "execution_count": 126,
   "metadata": {},
   "outputs": [
    {
     "name": "stdout",
     "output_type": "stream",
     "text": [
      "{'learning_rate': 0.12978137748927168, 'max_depth': 7, 'min_child_weight': 2, 'n_estimators': 759, 'seed': 42} 0.795521194348\n",
      "Wall time: 5h 53min 1s\n"
     ]
    }
   ],
   "source": [
    "%%time\n",
    "rand_opt = RandomizedSearchCV(model, param_distributions=params_rand, cv=3, random_state=42, scoring = 'accuracy', n_iter = 200).fit(bioresponce_data, bioresponce_target)\n",
    "print(rand_opt.best_params_, rand_opt.best_score_)"
   ]
  },
  {
   "cell_type": "code",
   "execution_count": null,
   "metadata": {
    "collapsed": true
   },
   "outputs": [],
   "source": []
  }
 ],
 "metadata": {
  "anaconda-cloud": {},
  "kernelspec": {
   "display_name": "Python 3",
   "language": "python",
   "name": "python3"
  },
  "language_info": {
   "codemirror_mode": {
    "name": "ipython",
    "version": 3
   },
   "file_extension": ".py",
   "mimetype": "text/x-python",
   "name": "python",
   "nbconvert_exporter": "python",
   "pygments_lexer": "ipython3",
   "version": "3.6.3"
  }
 },
 "nbformat": 4,
 "nbformat_minor": 1
}
